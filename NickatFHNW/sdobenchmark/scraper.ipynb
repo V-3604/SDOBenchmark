{
 "cells": [
  {
   "cell_type": "code",
   "execution_count": null,
   "metadata": {},
   "outputs": [],
   "source": [
    "import os\n",
    "from shutil import copyfile\n",
    "from tqdm import tqdm\n",
    "import csv\n",
    "from datetime import datetime"
   ]
  },
  {
   "cell_type": "code",
   "execution_count": null,
   "metadata": {},
   "outputs": [],
   "source": [
    "def flare_or_not(peak_flux):\n",
    "    if peak_flux >= 1e-5:\n",
    "        return True\n",
    "    else:\n",
    "        return False"
   ]
  },
  {
   "cell_type": "code",
   "execution_count": null,
   "metadata": {},
   "outputs": [],
   "source": [
    "def read_csv(csv_path):\n",
    "    meta_data = []\n",
    "    first_time = True\n",
    "    #path + 'meta_data.csv'\n",
    "\n",
    "    with open(csv_path) as csvfile:\n",
    "        readCSV = csv.reader(csvfile, delimiter=',')\n",
    "        for row in readCSV:\n",
    "            if first_time:\n",
    "                first_time = False\n",
    "                continue\n",
    "            meta_data.append([row[0], datetime.strptime(str(row[1])[:-3], '%Y-%m-%d %H:%M:%S.%f'), datetime.strptime(str(row[2])[:-3], '%Y-%m-%d %H:%M:%S.%f'), float(row[3]), flare_or_not(float(row[3]))])\n",
    "    return meta_data"
   ]
  },
  {
   "cell_type": "code",
   "execution_count": null,
   "metadata": {},
   "outputs": [],
   "source": [
    "def get_file_name_list(csv_path):\n",
    "    meta_data = read_csv(csv_path)\n",
    "    file_name_list = []\n",
    "    for entry in meta_data:\n",
    "        file_name_list.append([str(entry[1].year) + '-' + str('{:02d}'.format(entry[1].month)) + '-' + str('{:02d}'.format(entry[1].day)) + 'T' + str('{:02d}'.format(entry[1].hour)) + str('{:02d}'.format(entry[1].minute)) + str('{:02d}'.format(entry[1].second)) + '__magnetogram.jpg', entry[4]])\n",
    "        \n",
    "    return file_name_list"
   ]
  },
  {
   "cell_type": "code",
   "execution_count": 7,
   "metadata": {},
   "outputs": [
    {
     "name": "stderr",
     "output_type": "stream",
     "text": [
      "979it [00:00, 3408.57it/s]\n",
      "9429it [00:11, 826.59it/s]\n"
     ]
    }
   ],
   "source": [
    "paths = ['../sdobenchmark_full/test/', '../sdobenchmark_full/training/']\n",
    "\n",
    "flare_counter = 0\n",
    "no_flare_counter = 0\n",
    "\n",
    "for path in paths:\n",
    "    magnetogram_file_names = get_file_name_list(path + 'meta_data.csv')\n",
    "    for root,d_names,f_names in tqdm(os.walk(path)):\n",
    "        for file in f_names:\n",
    "            if 'magnetogram' in file and [file, True] in magnetogram_file_names:\n",
    "                copyfile(root + '/' + file, './dataset/flare/' + str(flare_counter) + '.' + file.split('.')[-1])\n",
    "                flare_counter = flare_counter + 1\n",
    "            elif 'magnetogram' in file and [file, False] in magnetogram_file_names:\n",
    "                copyfile(root + '/' + file, './dataset/no_flare/' + str(no_flare_counter) + '.' + file.split('.')[-1])\n",
    "                if no_flare_counter == 681:\n",
    "                    break\n",
    "                no_flare_counter = no_flare_counter + 1"
   ]
  }
 ],
 "metadata": {
  "kernelspec": {
   "display_name": "sdobenchmark",
   "language": "python",
   "name": "sdobenchmark"
  },
  "language_info": {
   "codemirror_mode": {
    "name": "ipython",
    "version": 3
   },
   "file_extension": ".py",
   "mimetype": "text/x-python",
   "name": "python",
   "nbconvert_exporter": "python",
   "pygments_lexer": "ipython3",
   "version": "3.6.9"
  }
 },
 "nbformat": 4,
 "nbformat_minor": 4
}
